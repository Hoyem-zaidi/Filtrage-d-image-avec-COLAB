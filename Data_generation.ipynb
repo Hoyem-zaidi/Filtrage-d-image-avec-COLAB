{
  "nbformat": 4,
  "nbformat_minor": 0,
  "metadata": {
    "colab": {
      "provenance": [],
      "mount_file_id": "1nbKNZpZuhumjxEaGbyHTYh7EMMLI7FEY",
      "authorship_tag": "ABX9TyObliXK7GDz7CZt/tnLWUMw",
      "include_colab_link": true
    },
    "kernelspec": {
      "name": "python3",
      "display_name": "Python 3"
    },
    "language_info": {
      "name": "python"
    }
  },
  "cells": [
    {
      "cell_type": "markdown",
      "metadata": {
        "id": "view-in-github",
        "colab_type": "text"
      },
      "source": [
        "<a href=\"https://colab.research.google.com/github/Hoyem-zaidi/Filtrage-d-image-avec-COLAB/blob/main/Data_generation.ipynb\" target=\"_parent\"><img src=\"https://colab.research.google.com/assets/colab-badge.svg\" alt=\"Open In Colab\"/></a>"
      ]
    },
    {
      "cell_type": "code",
      "execution_count": 1,
      "metadata": {
        "colab": {
          "base_uri": "https://localhost:8080/"
        },
        "id": "Xs3iV1zggVNq",
        "outputId": "ecbef60c-bed0-4433-da71-a36cd17095e4"
      },
      "outputs": [
        {
          "output_type": "stream",
          "name": "stdout",
          "text": [
            "Drive already mounted at /content/drive; to attempt to forcibly remount, call drive.mount(\"/content/drive\", force_remount=True).\n"
          ]
        },
        {
          "output_type": "execute_result",
          "data": {
            "text/plain": [
              "385"
            ]
          },
          "metadata": {},
          "execution_count": 1
        }
      ],
      "source": [
        "import tensorflow as tf #is a library can be used to create deep learning models \n",
        "from keras.preprocessing.image import ImageDataGenerator #keras is a deep learning API for building and training models in tensorflow\n",
        "from keras_preprocessing.image import img_to_array\n",
        "import cv2 #OpenCV-Python is a library of Python bindings designed to solve computer vision problems\n",
        "import os, shutil #the OS module in python provides function for interacting with the operating system\n",
        "#the shutil module offers a number of high-level operations on files and collections of files\n",
        "from os import listdir #listdir() returns a liste containing the names of the entries in the direvtory given by path\n",
        "from pathlib import Path # is an object oriented interface to the filesystem\n",
        "import numpy as np # is  a python library used for working with arrays\n",
        "from google.colab import drive\n",
        "drive.mount('/content/drive') #used to mount drive\n",
        "yes=os.listdir('/content/drive/MyDrive/brain_tumor_dataset-20221025T143700Z-001/brain_tumor_dataset/yes')\n",
        "no=os.listdir('/content/drive/MyDrive/brain_tumor_dataset-20221025T143700Z-001/brain_tumor_dataset/no')\n",
        "len(no)\n",
        "yes=os.listdir('/content/drive/MyDrive/brain_tumor_dataset-20221025T143700Z-001/brain_tumor_dataset/yes')\n",
        "no=os.listdir('/content/drive/MyDrive/brain_tumor_dataset-20221025T143700Z-001/brain_tumor_dataset/no')\n",
        "datagen = ImageDataGenerator(rotation_range=10,\n",
        "                             width_shift_range=0.1,\n",
        "                             height_shift_range=0.1,\n",
        "                             shear_range=0.1,\n",
        "                             brightness_range=(0.3,1.0),\n",
        "                             horizontal_flip=True,\n",
        "                             fill_mode='nearest')\n",
        "for file in yes:\n",
        "  img = cv2.imread('/content/drive/MyDrive/brain_tumor_dataset-20221025T143700Z-001/brain_tumor_dataset/yes/'+file) #this is a PLL image\n",
        "  x = img_to_array(img) #this is a Numpy array with shape (3,150,150)\n",
        "  x = x.reshape((1,) + x.shape) # #this is a Numpy array with shape(1,3,150,150)\n",
        "  i = 0\n",
        "  #the .flow () command below generate batches of randomly trnsformed images and saves the results to the 'yes_augmented' directory\n",
        "for batch in datagen.flow(x, batch_size=1,save_to_dir='/content/drive/MyDrive/yes_augmented/',save_prefix='aug',save_format='jpg'):\n",
        "    i += 1\n",
        "    if i>5:\n",
        "      break\n",
        "for file in no:\n",
        "  img = cv2.imread('/content/drive/MyDrive/brain_tumor_dataset-20221025T143700Z-001/brain_tumor_dataset/no/'+file)\n",
        "  x = img_to_array(img)\n",
        "  x = x.reshape((1,) + x.shape)\n",
        "  i = 0\n",
        "    #the .flow () command below generate batches of randomly trnsformed images and saves the results to the 'no_augmented' directory\n",
        "  for batch in datagen.flow(x, batch_size=1,save_to_dir='/content/drive/MyDrive/no_augmented/', save_prefix='aug',save_format='jpg'):\n",
        "    i +=1\n",
        "    if i > 8:\n",
        "      break\n",
        "yes_augmented=os.listdir('/content/drive/MyDrive/yes_augmented')\n",
        "len(yes_augmented)\n",
        "no_augmented=os.listdir('/content/drive/MyDrive/no_augmented')\n",
        "len(no_augmented)\n",
        "src_path = '/content/drive/MyDrive/brain_tumor_dataset-20221025T143700Z-001/brain_tumor_dataset/yes/'\n",
        "trg_path = '/content/drive/MyDrive/all_yes/'\n",
        "for src_file in Path(src_path).glob('*.*'):\n",
        "    shutil.copy(src_file,trg_path)\n",
        "src_pathh = '/content/drive/MyDrive/yes_augmented'\n",
        "trg_pathh = '/content/drive/MyDrive/all_yes/'\n",
        "\n",
        "for src_file in Path(src_pathh).glob('*.*'):\n",
        "    shutil.copy(src_file,trg_pathh)\n",
        "all_yes= os.listdir('/content/drive/MyDrive/all_yes')\n",
        "len(all_yes)\n",
        "\n",
        "src_path = '/content/drive/MyDrive/brain_tumor_dataset-20221025T143700Z-001/brain_tumor_dataset/no'\n",
        "trg_path = '/content/drive/MyDrive/all_no'\n",
        "\n",
        "for src_file in Path(src_path).glob('*.*'):\n",
        "    shutil.copy(src_file,trg_path)\n",
        "src_pathh = '/content/drive/MyDrive/no_augmented'\n",
        "trg_pathh = '/content/drive/MyDrive/all_no'\n",
        "\n",
        "for src_file in Path(src_path).glob('*.*'):\n",
        "    shutil.copy(src_file,trg_path)\n",
        "\n",
        "all_no=os.listdir('/content/drive/MyDrive/all_no')\n",
        "len(all_no)\n",
        "\n",
        "data=np.concatenate([all_yes,all_no])\n",
        "len(data)"
      ]
    }
  ]
}